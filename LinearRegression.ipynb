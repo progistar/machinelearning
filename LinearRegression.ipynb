{
 "cells": [
  {
   "cell_type": "code",
   "execution_count": null,
   "id": "663b43af",
   "metadata": {},
   "outputs": [],
   "source": [
    "from tensorflow import keras\n",
    "import numpy as np\n",
    "import pandas as pd\n",
    "\n",
    "## Load data\n",
    "lrData = pd.read_csv(\"lr.sample.tsv\", delimiter='\\t', keep_default_na=False)\n",
    "\n",
    "print(\"read data: \" +str(len(lrData)))\n",
    "\n",
    "print(lrData)\n",
    "\n",
    "x_data = np.array(lrData['x'], dtype=np.float64)\n",
    "y_data = np.array(lrData['y'], dtype=np.float64)"
   ]
  },
  {
   "cell_type": "code",
   "execution_count": 76,
   "id": "fb87afbd",
   "metadata": {},
   "outputs": [
    {
     "name": "stdout",
     "output_type": "stream",
     "text": [
      "Epoch 1/10\n",
      "8000/8000 [==============================] - 2s 292us/step - loss: 21.0022 - mae: 1.5543 - val_loss: 0.1387 - val_mae: 0.3057\n",
      "Epoch 2/10\n",
      "8000/8000 [==============================] - 2s 288us/step - loss: 0.1238 - mae: 0.2913 - val_loss: 0.1387 - val_mae: 0.3057\n",
      "Epoch 3/10\n",
      "8000/8000 [==============================] - 2s 289us/step - loss: 0.1238 - mae: 0.2913 - val_loss: 0.1387 - val_mae: 0.3057\n",
      "Epoch 4/10\n",
      "8000/8000 [==============================] - 2s 288us/step - loss: 0.1238 - mae: 0.2913 - val_loss: 0.1387 - val_mae: 0.3057\n",
      "Epoch 5/10\n",
      "8000/8000 [==============================] - 2s 293us/step - loss: 0.1238 - mae: 0.2913 - val_loss: 0.1387 - val_mae: 0.3057\n",
      "Epoch 6/10\n",
      "8000/8000 [==============================] - 2s 291us/step - loss: 0.1238 - mae: 0.2913 - val_loss: 0.1387 - val_mae: 0.3057\n",
      "Epoch 7/10\n",
      "8000/8000 [==============================] - 2s 288us/step - loss: 0.1238 - mae: 0.2913 - val_loss: 0.1387 - val_mae: 0.3057\n",
      "Epoch 8/10\n",
      "8000/8000 [==============================] - 2s 288us/step - loss: 0.1238 - mae: 0.2913 - val_loss: 0.1387 - val_mae: 0.3057\n",
      "Epoch 9/10\n",
      "8000/8000 [==============================] - 2s 288us/step - loss: 0.1238 - mae: 0.2913 - val_loss: 0.1387 - val_mae: 0.3057\n",
      "Epoch 10/10\n",
      "8000/8000 [==============================] - 2s 287us/step - loss: 0.1238 - mae: 0.2913 - val_loss: 0.1387 - val_mae: 0.3057\n",
      "Model: \"sequential\"\n",
      "_________________________________________________________________\n",
      " Layer (type)                Output Shape              Param #   \n",
      "=================================================================\n",
      " dense (Dense)               (None, 1)                 2         \n",
      "                                                                 \n",
      "=================================================================\n",
      "Total params: 2\n",
      "Trainable params: 2\n",
      "Non-trainable params: 0\n",
      "_________________________________________________________________\n"
     ]
    }
   ],
   "source": [
    "## Compose model\n",
    "keras.backend.clear_session()\n",
    "model = keras.models.Sequential()\n",
    "model.add(keras.layers.Dense(units=1, input_dim=1, activation='linear'))\n",
    "\n",
    "sgd = keras.optimizers.SGD(learning_rate = 1e-8)\n",
    "model.compile(loss=\"mse\", optimizer=sgd, metrics=['mae'])\n",
    "\n",
    "history = model.fit(x_data, y_data, epochs = 10, batch_size = 1, shuffle=False, verbose = 1, validation_split = 0.2)\n",
    "\n",
    "model.summary()\n"
   ]
  },
  {
   "cell_type": "code",
   "execution_count": null,
   "id": "3a083bba",
   "metadata": {},
   "outputs": [],
   "source": []
  }
 ],
 "metadata": {
  "kernelspec": {
   "display_name": "defaultTF",
   "language": "python",
   "name": "defaulttf"
  },
  "language_info": {
   "codemirror_mode": {
    "name": "ipython",
    "version": 3
   },
   "file_extension": ".py",
   "mimetype": "text/x-python",
   "name": "python",
   "nbconvert_exporter": "python",
   "pygments_lexer": "ipython3",
   "version": "3.9.10"
  }
 },
 "nbformat": 4,
 "nbformat_minor": 5
}
