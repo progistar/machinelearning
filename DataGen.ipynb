{
 "cells": [
  {
   "cell_type": "code",
   "execution_count": 12,
   "id": "ed009193",
   "metadata": {},
   "outputs": [
    {
     "name": "stdout",
     "output_type": "stream",
     "text": [
      "Done to generate random data for linear regression\n",
      "\n"
     ]
    }
   ],
   "source": [
    "## Data for linear regression\n",
    "import random\n",
    "\n",
    "lrData = open(\"lr.sample.tsv\", \"w\")\n",
    "\n",
    "# write simple header\n",
    "lrData.write(\"index\\tx\\ty\\n\")\n",
    "\n",
    "# write random data\n",
    "for var in range(1,10001):\n",
    "    index = var\n",
    "    x = var\n",
    "    y = random.random() + x\n",
    "    \n",
    "    index = str(index)+\"\\t\"+str(x)+\"\\t\"+str(y)+\"\\n\"\n",
    "    lrData.write(index)\n",
    "\n",
    "lrData.close()\n",
    "\n",
    "print(\"Done to generate random data for linear regression\\n\")"
   ]
  },
  {
   "cell_type": "code",
   "execution_count": 5,
   "id": "7f5936ac",
   "metadata": {},
   "outputs": [
    {
     "name": "stdout",
     "output_type": "stream",
     "text": [
      "Done to generate random data for circled samples\n",
      "\n"
     ]
    }
   ],
   "source": [
    "## Data for circled samples\n",
    "import random\n",
    "scData = open(\"sc.sample.tsv\", \"w\")\n",
    "\n",
    "# write simple header\n",
    "scData.write(\"index\\tx1\\tx2\\tlabel\\n\")\n",
    "\n",
    "# write random data\n",
    "for var in range(1,10001):\n",
    "    index = var\n",
    "    x = random.randrange(-1,2) * random.random()\n",
    "    y = random.randrange(-1,2) * random.random()\n",
    "    \n",
    "    label = \"0\"\n",
    "    if(x*x+y*y >= 1) :\n",
    "        label = \"1\"\n",
    "    \n",
    "    \n",
    "    index = str(index)+\"\\t\"+str(x)+\"\\t\"+str(y)+\"\\t\"+label+\"\\n\"\n",
    "    scData.write(index)\n",
    "\n",
    "scData.close()\n",
    "\n",
    "print(\"Done to generate random data for circled samples\\n\")"
   ]
  }
 ],
 "metadata": {
  "kernelspec": {
   "display_name": "defaultTF",
   "language": "python",
   "name": "defaulttf"
  },
  "language_info": {
   "codemirror_mode": {
    "name": "ipython",
    "version": 3
   },
   "file_extension": ".py",
   "mimetype": "text/x-python",
   "name": "python",
   "nbconvert_exporter": "python",
   "pygments_lexer": "ipython3",
   "version": "3.9.10"
  }
 },
 "nbformat": 4,
 "nbformat_minor": 5
}
