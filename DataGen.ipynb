{
 "cells": [
  {
   "cell_type": "code",
   "execution_count": 12,
   "id": "ed009193",
   "metadata": {},
   "outputs": [
    {
     "name": "stdout",
     "output_type": "stream",
     "text": [
      "Done to generate random data for linear regression\n",
      "\n"
     ]
    }
   ],
   "source": [
    "## Data for linear regression\n",
    "import random\n",
    "\n",
    "lrData = open(\"lr.sample.tsv\", \"w\")\n",
    "\n",
    "# write simple header\n",
    "lrData.write(\"index\\tx\\ty\\n\")\n",
    "\n",
    "# write random data\n",
    "for var in range(1,10001):\n",
    "    index = var\n",
    "    x = var\n",
    "    y = random.random() + x\n",
    "    \n",
    "    index = str(index)+\"\\t\"+str(x)+\"\\t\"+str(y)+\"\\n\"\n",
    "    lrData.write(index)\n",
    "\n",
    "lrData.close()\n",
    "\n",
    "print(\"Done to generate random data for linear regression\\n\")"
   ]
  },
  {
   "cell_type": "code",
   "execution_count": null,
   "id": "7f5936ac",
   "metadata": {},
   "outputs": [],
   "source": []
  }
 ],
 "metadata": {
  "kernelspec": {
   "display_name": "defaultTF",
   "language": "python",
   "name": "defaulttf"
  },
  "language_info": {
   "codemirror_mode": {
    "name": "ipython",
    "version": 3
   },
   "file_extension": ".py",
   "mimetype": "text/x-python",
   "name": "python",
   "nbconvert_exporter": "python",
   "pygments_lexer": "ipython3",
   "version": "3.9.10"
  }
 },
 "nbformat": 4,
 "nbformat_minor": 5
}
