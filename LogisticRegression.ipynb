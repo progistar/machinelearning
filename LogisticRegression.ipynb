{
 "cells": [
  {
   "cell_type": "code",
   "execution_count": 51,
   "id": "caddaee1",
   "metadata": {},
   "outputs": [
    {
     "name": "stdout",
     "output_type": "stream",
     "text": [
      "read data: 10000\n",
      "      index        x1        x2  label\n",
      "0         1 -0.889268 -0.471277      1\n",
      "1         2 -0.947695  0.000000      0\n",
      "2         3 -0.877700  0.000000      0\n",
      "3         4  0.000000  0.140096      0\n",
      "4         5  0.000000 -0.761773      0\n",
      "...     ...       ...       ...    ...\n",
      "9995   9996  0.654160  0.716796      0\n",
      "9996   9997 -0.183493  0.780246      0\n",
      "9997   9998  0.000000  0.948636      0\n",
      "9998   9999  0.000000 -0.049655      0\n",
      "9999  10000  0.000000 -0.659046      0\n",
      "\n",
      "[10000 rows x 4 columns]\n"
     ]
    }
   ],
   "source": [
    "from tensorflow import keras\n",
    "import numpy as np\n",
    "import pandas as pd\n",
    "\n",
    "## Load data\n",
    "lrData = pd.read_csv(\"sc.sample.tsv\", delimiter='\\t', keep_default_na=False)\n",
    "\n",
    "print(\"read data: \" +str(len(lrData)))\n",
    "\n",
    "print(lrData)\n",
    "\n",
    "x_data = np.array(lrData[['x1', 'x2']], dtype=np.float64)\n",
    "y_data = np.array(lrData['label'], dtype=np.float64)"
   ]
  },
  {
   "cell_type": "code",
   "execution_count": 55,
   "id": "578f6539",
   "metadata": {},
   "outputs": [
    {
     "data": {
      "image/png": "[encoded data removed]",
      "text/plain": [
       "<Figure size 432x288 with 1 Axes>"
      ]
     },
     "metadata": {
      "needs_background": "light"
     },
     "output_type": "display_data"
    }
   ],
   "source": [
    "import matplotlib.pyplot as plt\n",
    "import math\n",
    "plt.plot(x_data[y_data == 1, 0], x_data[y_data == 1, 1], 'bo')\n",
    "plt.plot(x_data[y_data == 0, 0], x_data[y_data == 0, 1], 'ro')\n",
    "plt.show()\n",
    "\n",
    "## convert to x1^2 and x2^2\n",
    "x_data = x_data * x_data"
   ]
  },
  {
   "cell_type": "code",
   "execution_count": 58,
   "id": "f6cee4ca",
   "metadata": {},
   "outputs": [
    {
     "name": "stdout",
     "output_type": "stream",
     "text": [
      "Epoch 1/20\n",
      "8000/8000 [==============================] - 2s 296us/step - loss: 0.1237 - binary_accuracy: 0.9529 - val_loss: 0.0788 - val_binary_accuracy: 0.9640\n",
      "Epoch 2/20\n",
      "8000/8000 [==============================] - 2s 290us/step - loss: 0.0722 - binary_accuracy: 0.9775 - val_loss: 0.0629 - val_binary_accuracy: 0.9710\n",
      "Epoch 3/20\n",
      "8000/8000 [==============================] - 2s 291us/step - loss: 0.0605 - binary_accuracy: 0.9824 - val_loss: 0.0553 - val_binary_accuracy: 0.9745\n",
      "Epoch 4/20\n",
      "8000/8000 [==============================] - 2s 294us/step - loss: 0.0541 - binary_accuracy: 0.9847 - val_loss: 0.0506 - val_binary_accuracy: 0.9775\n",
      "Epoch 5/20\n",
      "8000/8000 [==============================] - 2s 296us/step - loss: 0.0497 - binary_accuracy: 0.9860 - val_loss: 0.0473 - val_binary_accuracy: 0.9795\n",
      "Epoch 6/20\n",
      "8000/8000 [==============================] - 2s 308us/step - loss: 0.0465 - binary_accuracy: 0.9870 - val_loss: 0.0448 - val_binary_accuracy: 0.9800\n",
      "Epoch 7/20\n",
      "8000/8000 [==============================] - 3s 328us/step - loss: 0.0440 - binary_accuracy: 0.9872 - val_loss: 0.0427 - val_binary_accuracy: 0.9805\n",
      "Epoch 8/20\n",
      "8000/8000 [==============================] - 2s 301us/step - loss: 0.0420 - binary_accuracy: 0.9877 - val_loss: 0.0410 - val_binary_accuracy: 0.9820\n",
      "Epoch 9/20\n",
      "8000/8000 [==============================] - 3s 342us/step - loss: 0.0403 - binary_accuracy: 0.9879 - val_loss: 0.0396 - val_binary_accuracy: 0.9820\n",
      "Epoch 10/20\n",
      "8000/8000 [==============================] - 2s 308us/step - loss: 0.0389 - binary_accuracy: 0.9885 - val_loss: 0.0384 - val_binary_accuracy: 0.9820\n",
      "Epoch 11/20\n",
      "8000/8000 [==============================] - 2s 297us/step - loss: 0.0376 - binary_accuracy: 0.9886 - val_loss: 0.0373 - val_binary_accuracy: 0.9820\n",
      "Epoch 12/20\n",
      "8000/8000 [==============================] - 2s 296us/step - loss: 0.0365 - binary_accuracy: 0.9890 - val_loss: 0.0363 - val_binary_accuracy: 0.9820\n",
      "Epoch 13/20\n",
      "8000/8000 [==============================] - 2s 295us/step - loss: 0.0355 - binary_accuracy: 0.9893 - val_loss: 0.0355 - val_binary_accuracy: 0.9825\n",
      "Epoch 14/20\n",
      "8000/8000 [==============================] - 2s 295us/step - loss: 0.0346 - binary_accuracy: 0.9894 - val_loss: 0.0347 - val_binary_accuracy: 0.9825\n",
      "Epoch 15/20\n",
      "8000/8000 [==============================] - 2s 292us/step - loss: 0.0338 - binary_accuracy: 0.9896 - val_loss: 0.0340 - val_binary_accuracy: 0.9835\n",
      "Epoch 16/20\n",
      "8000/8000 [==============================] - 2s 293us/step - loss: 0.0331 - binary_accuracy: 0.9896 - val_loss: 0.0333 - val_binary_accuracy: 0.9840\n",
      "Epoch 17/20\n",
      "8000/8000 [==============================] - 2s 297us/step - loss: 0.0324 - binary_accuracy: 0.9899 - val_loss: 0.0327 - val_binary_accuracy: 0.9840\n",
      "Epoch 18/20\n",
      "8000/8000 [==============================] - 2s 294us/step - loss: 0.0318 - binary_accuracy: 0.9901 - val_loss: 0.0322 - val_binary_accuracy: 0.9850\n",
      "Epoch 19/20\n",
      "8000/8000 [==============================] - 2s 295us/step - loss: 0.0313 - binary_accuracy: 0.9905 - val_loss: 0.0317 - val_binary_accuracy: 0.9850\n",
      "Epoch 20/20\n",
      "8000/8000 [==============================] - 2s 295us/step - loss: 0.0307 - binary_accuracy: 0.9908 - val_loss: 0.0312 - val_binary_accuracy: 0.9850\n",
      "Model: \"sequential\"\n",
      "_________________________________________________________________\n",
      " Layer (type)                Output Shape              Param #   \n",
      "=================================================================\n",
      " dense (Dense)               (None, 1)                 3         \n",
      "                                                                 \n",
      "=================================================================\n",
      "Total params: 3\n",
      "Trainable params: 3\n",
      "Non-trainable params: 0\n",
      "_________________________________________________________________\n"
     ]
    }
   ],
   "source": [
    "## Compose model\n",
    "keras.backend.clear_session()\n",
    "model = keras.models.Sequential()\n",
    "model.add(keras.layers.Dense(units=1, input_dim=2, activation='sigmoid'))\n",
    "\n",
    "sgd = keras.optimizers.SGD(learning_rate = 1e-1)\n",
    "model.compile(loss=\"binary_crossentropy\", optimizer=sgd, metrics=['binary_accuracy'])\n",
    "\n",
    "history = model.fit(x_data, y_data, epochs = 20, batch_size = 1, shuffle=False, verbose = 1, validation_split = 0.2)\n",
    "\n",
    "model.summary()"
   ]
  },
  {
   "cell_type": "code",
   "execution_count": 57,
   "id": "a3d18c55",
   "metadata": {},
   "outputs": [
    {
     "name": "stdout",
     "output_type": "stream",
     "text": [
      "10000/10000 [==============================] - 2s 230us/step - loss: 0.0390 - binary_accuracy: 0.9842\n"
     ]
    },
    {
     "data": {
      "text/plain": [
       "[0.03900257498025894, 0.9842000007629395]"
      ]
     },
     "execution_count": 57,
     "metadata": {},
     "output_type": "execute_result"
    }
   ],
   "source": [
    "model.evaluate(x_data, y_data, batch_size= 1, verbose=1)"
   ]
  }
 ],
 "metadata": {
  "kernelspec": {
   "display_name": "defaultTF",
   "language": "python",
   "name": "defaulttf"
  },
  "language_info": {
   "codemirror_mode": {
    "name": "ipython",
    "version": 3
   },
   "file_extension": ".py",
   "mimetype": "text/x-python",
   "name": "python",
   "nbconvert_exporter": "python",
   "pygments_lexer": "ipython3",
   "version": "3.9.10"
  }
 },
 "nbformat": 4,
 "nbformat_minor": 5
}
